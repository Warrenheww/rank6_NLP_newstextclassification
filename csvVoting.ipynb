{
 "cells": [
  {
   "cell_type": "code",
   "execution_count": 1,
   "metadata": {
    "ExecuteTime": {
     "end_time": "2020-08-27T08:08:44.004722Z",
     "start_time": "2020-08-27T08:08:33.211031Z"
    }
   },
   "outputs": [],
   "source": [
    "import numpy as np\n",
    "import pandas as pd\n",
    "import os\n",
    "from pathlib import *"
   ]
  },
  {
   "cell_type": "code",
   "execution_count": 2,
   "metadata": {
    "ExecuteTime": {
     "end_time": "2020-08-27T08:08:44.009686Z",
     "start_time": "2020-08-27T08:08:44.005696Z"
    }
   },
   "outputs": [],
   "source": [
    "csv_list = []"
   ]
  },
  {
   "cell_type": "code",
   "execution_count": 3,
   "metadata": {
    "ExecuteTime": {
     "end_time": "2020-08-27T08:09:48.736019Z",
     "start_time": "2020-08-27T08:09:48.731033Z"
    }
   },
   "outputs": [
    {
     "name": "stdout",
     "output_type": "stream",
     "text": [
      "bert60w_17_dev9679.csv \t\n",
      "bertdevall3.csv \t\n",
      "bert60w_13_dev9894.csv \t\n",
      "bertdevall7.csv \t\n",
      "bertdevall6.csv \t\n",
      "bertdevall4.csv \t\n",
      "bertdevall5.csv \t\n",
      "bertdevpartial8.csv \t\n",
      "bert60wnew_10_dev9904.csv \t\n",
      "bertdevpartial5.csv \t\n",
      "bertdevpartial4.csv \t\n",
      "bertdevpartial6.csv \t\n",
      "bertdevpartial7.csv \t\n",
      "bertdevpartial3.csv \t\n",
      "Taowa_Final1.csv \t\n",
      "bert60wpp_10.csv \t\n",
      "Taowa_Final3.csv \t\n",
      "Taowa_Final2.csv \t\n",
      "bert60w_10_dev9740.csv \t\n",
      "bert60wnew_12_dev9844csv \t\n"
     ]
    }
   ],
   "source": [
    "# Add the file name into the list \n",
    "for root, dirs, files in os.walk(r\"/Users/wh1165/Desktop/AIcrowd_Competition/NLP/Final_c4\", topdown=False):\n",
    "    for name in files:\n",
    "        path = PurePath(name)\n",
    "        csv_list.append(path.name)\n",
    "\n",
    "for item in csv_list:\n",
    "    print(item,\"\\t\")"
   ]
  },
  {
   "cell_type": "code",
   "execution_count": 4,
   "metadata": {
    "ExecuteTime": {
     "end_time": "2020-08-27T08:09:53.157542Z",
     "start_time": "2020-08-27T08:09:52.930151Z"
    }
   },
   "outputs": [],
   "source": [
    "# Create a empty 0 array for stacking\n",
    "test_pred = np.zeros((50000, 1), int) \n",
    "\n",
    "for item in csv_list:\n",
    "    dirpath = Path(\"/Users/wh1165/Desktop/AIcrowd_Competition/NLP/Final_c4\")\n",
    "    # joinpath one by one\n",
    "    filepath = dirpath.joinpath(item)\n",
    "    #print(filepath)\n",
    "    df = pd.read_csv(filepath)\n",
    "    # do column stack\n",
    "    test_pred = np.column_stack((test_pred, df.values))"
   ]
  },
  {
   "cell_type": "code",
   "execution_count": 5,
   "metadata": {
    "ExecuteTime": {
     "end_time": "2020-08-27T08:09:53.908533Z",
     "start_time": "2020-08-27T08:09:53.903547Z"
    }
   },
   "outputs": [
    {
     "name": "stdout",
     "output_type": "stream",
     "text": [
      "(50000, 21)\n",
      "[[ 0  6  6 ...,  6  6  6]\n",
      " [ 0 13 13 ..., 13 13 13]\n",
      " [ 0  0  0 ...,  0  0  0]\n",
      " ..., \n",
      " [ 0  1  1 ...,  1  1  1]\n",
      " [ 0  4  4 ...,  4  4  4]\n",
      " [ 0 12 12 ..., 12 12 12]]\n"
     ]
    }
   ],
   "source": [
    "print(test_pred.shape)\n",
    "print(test_pred)"
   ]
  },
  {
   "cell_type": "code",
   "execution_count": 6,
   "metadata": {
    "ExecuteTime": {
     "end_time": "2020-08-27T08:09:57.486964Z",
     "start_time": "2020-08-27T08:09:57.481978Z"
    }
   },
   "outputs": [
    {
     "data": {
      "text/plain": [
       "array([0, 3, 3, 3, 3, 3, 3, 3, 3, 3, 3, 3, 3, 3, 3, 3, 3, 3, 3, 3, 3])"
      ]
     },
     "execution_count": 6,
     "metadata": {},
     "output_type": "execute_result"
    }
   ],
   "source": [
    "test_pred[4190]"
   ]
  },
  {
   "cell_type": "code",
   "execution_count": 7,
   "metadata": {
    "ExecuteTime": {
     "end_time": "2020-08-27T08:09:59.597932Z",
     "start_time": "2020-08-27T08:09:59.593943Z"
    }
   },
   "outputs": [
    {
     "name": "stdout",
     "output_type": "stream",
     "text": [
      "[[ 6  6  6 ...,  6  6  6]\n",
      " [13 13 13 ..., 13 13 13]\n",
      " [ 0  0  0 ...,  0  0  0]\n",
      " ..., \n",
      " [ 1  1  1 ...,  1  1  1]\n",
      " [ 4  4  4 ...,  4  4  4]\n",
      " [12 12 12 ..., 12 12 12]]\n",
      "(50000, 20)\n"
     ]
    }
   ],
   "source": [
    "# remove the first column of 0\n",
    "eff_test = test_pred[:,1:]\n",
    "print(eff_test)\n",
    "print(eff_test.shape)"
   ]
  },
  {
   "cell_type": "code",
   "execution_count": 8,
   "metadata": {
    "ExecuteTime": {
     "end_time": "2020-08-27T08:10:13.107350Z",
     "start_time": "2020-08-27T08:10:02.098246Z"
    }
   },
   "outputs": [],
   "source": [
    "prediction = []\n",
    "for i, test_column in enumerate(test_pred):\n",
    "    prediction.append(np.argmax(np.bincount(test_column)))\n",
    "# bincount,count the frequency of labels\n",
    "final = np.array(prediction)"
   ]
  },
  {
   "cell_type": "code",
   "execution_count": 9,
   "metadata": {},
   "outputs": [
    {
     "name": "stdout",
     "output_type": "stream",
     "text": [
      "[ 6 13  0 ...,  1  4 12]\n",
      "12\n",
      "6\n"
     ]
    }
   ],
   "source": [
    "print(final)\n",
    "print(final[49999])\n",
    "print(final[0])"
   ]
  },
  {
   "cell_type": "code",
   "execution_count": 18,
   "metadata": {
    "ExecuteTime": {
     "end_time": "2020-08-27T08:10:59.862604Z",
     "start_time": "2020-08-27T08:10:59.814728Z"
    }
   },
   "outputs": [],
   "source": [
    "submission = pd.read_csv('./test_b_sample_submit.csv')\n",
    "submission['label'] = final\n",
    "submission.to_csv('./Voting_Final4.csv', index=False)"
   ]
  }
 ],
 "metadata": {
  "kernelspec": {
   "display_name": "okbook",
   "language": "python",
   "name": "okbook"
  },
  "language_info": {
   "codemirror_mode": {
    "name": "ipython",
    "version": 3
   },
   "file_extension": ".py",
   "mimetype": "text/x-python",
   "name": "python",
   "nbconvert_exporter": "python",
   "pygments_lexer": "ipython3",
   "version": "3.6.9"
  }
 },
 "nbformat": 4,
 "nbformat_minor": 4
}
